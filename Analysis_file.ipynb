{
 "cells": [
  {
   "cell_type": "code",
   "execution_count": 7,
   "metadata": {},
   "outputs": [],
   "source": [
    "import kagglehub\n",
    "import pandas as pd\n",
    "import os\n",
    "import matplotlib.pyplot as plt\n",
    "from langdetect import detect\n",
    "from langdetect.lang_detect_exception import LangDetectException\n",
    "\n"
   ]
  },
  {
   "cell_type": "code",
   "execution_count": 8,
   "metadata": {},
   "outputs": [
    {
     "name": "stdout",
     "output_type": "stream",
     "text": [
      "Path to dataset files: /Users/jerry/.cache/kagglehub/datasets/filas1212/cyberpunk-2077-steam-reviews-as-of-aug-8-2024/versions/4\n"
     ]
    }
   ],
   "source": [
    "# Download latest version\n",
    "path = kagglehub.dataset_download(\"filas1212/cyberpunk-2077-steam-reviews-as-of-aug-8-2024\")\n",
    "\n",
    "print(\"Path to dataset files:\", path)"
   ]
  },
  {
   "cell_type": "code",
   "execution_count": 9,
   "metadata": {},
   "outputs": [
    {
     "name": "stdout",
     "output_type": "stream",
     "text": [
      "['Cyberpunk_2077_Steam_Reviews.xlsx', 'Cyberpunk_2077_Steam_Reviews.csv']\n"
     ]
    },
    {
     "data": {
      "text/html": [
       "<div>\n",
       "<style scoped>\n",
       "    .dataframe tbody tr th:only-of-type {\n",
       "        vertical-align: middle;\n",
       "    }\n",
       "\n",
       "    .dataframe tbody tr th {\n",
       "        vertical-align: top;\n",
       "    }\n",
       "\n",
       "    .dataframe thead th {\n",
       "        text-align: right;\n",
       "    }\n",
       "</style>\n",
       "<table border=\"1\" class=\"dataframe\">\n",
       "  <thead>\n",
       "    <tr style=\"text-align: right;\">\n",
       "      <th></th>\n",
       "      <th>ReviewID</th>\n",
       "      <th>SteamID</th>\n",
       "      <th>Rating</th>\n",
       "      <th>Review</th>\n",
       "      <th>Date Posted</th>\n",
       "      <th>Hours Played</th>\n",
       "      <th>Voted Helpful</th>\n",
       "      <th>Received for Free</th>\n",
       "      <th>Update</th>\n",
       "    </tr>\n",
       "  </thead>\n",
       "  <tbody>\n",
       "    <tr>\n",
       "      <th>0</th>\n",
       "      <td>81918897</td>\n",
       "      <td>Rommel</td>\n",
       "      <td>Recommended</td>\n",
       "      <td>\\n\\t\\t\\t\\t\\t\"Hᴇ's ғᴜᴄᴋᴇᴅ ɪɴ ᴛʜᴇ ʜᴇᴀᴅ, ᴛʜᴇ ᴡᴏʀʟ...</td>\n",
       "      <td>12/9/2020</td>\n",
       "      <td>401.5</td>\n",
       "      <td>22</td>\n",
       "      <td>False</td>\n",
       "      <td>Release</td>\n",
       "    </tr>\n",
       "    <tr>\n",
       "      <th>1</th>\n",
       "      <td>81918903</td>\n",
       "      <td>76561198038931832</td>\n",
       "      <td>Recommended</td>\n",
       "      <td>\\n\\t\\t\\t\\t\\tIt's a city of dreams... and I'm a...</td>\n",
       "      <td>12/9/2020</td>\n",
       "      <td>247.6</td>\n",
       "      <td>710</td>\n",
       "      <td>True</td>\n",
       "      <td>Release</td>\n",
       "    </tr>\n",
       "    <tr>\n",
       "      <th>2</th>\n",
       "      <td>81918907</td>\n",
       "      <td>SKY2023</td>\n",
       "      <td>Recommended</td>\n",
       "      <td>\\n\\t\\t\\t\\t\\t======赛博朋克2077======千呼万唤始出来，赛博朋克终问...</td>\n",
       "      <td>12/9/2020</td>\n",
       "      <td>1,904.80</td>\n",
       "      <td>78</td>\n",
       "      <td>False</td>\n",
       "      <td>Release</td>\n",
       "    </tr>\n",
       "    <tr>\n",
       "      <th>3</th>\n",
       "      <td>81918912</td>\n",
       "      <td>limbo97</td>\n",
       "      <td>Recommended</td>\n",
       "      <td>\\n\\t\\t\\t\\t\\tObligatory It’s breathtaking!A won...</td>\n",
       "      <td>12/9/2020</td>\n",
       "      <td>8.8</td>\n",
       "      <td>19</td>\n",
       "      <td>False</td>\n",
       "      <td>Release</td>\n",
       "    </tr>\n",
       "    <tr>\n",
       "      <th>4</th>\n",
       "      <td>81918918</td>\n",
       "      <td>sn1ffla</td>\n",
       "      <td>Not Recommended</td>\n",
       "      <td>\\n\\t\\t\\t\\t\\tBigot developerTo clarify, I got t...</td>\n",
       "      <td>12/9/2020</td>\n",
       "      <td>86.1</td>\n",
       "      <td>18</td>\n",
       "      <td>True</td>\n",
       "      <td>Release</td>\n",
       "    </tr>\n",
       "  </tbody>\n",
       "</table>\n",
       "</div>"
      ],
      "text/plain": [
       "   ReviewID            SteamID           Rating  \\\n",
       "0  81918897             Rommel      Recommended   \n",
       "1  81918903  76561198038931832      Recommended   \n",
       "2  81918907            SKY2023      Recommended   \n",
       "3  81918912            limbo97      Recommended   \n",
       "4  81918918            sn1ffla  Not Recommended   \n",
       "\n",
       "                                              Review Date Posted Hours Played  \\\n",
       "0  \\n\\t\\t\\t\\t\\t\"Hᴇ's ғᴜᴄᴋᴇᴅ ɪɴ ᴛʜᴇ ʜᴇᴀᴅ, ᴛʜᴇ ᴡᴏʀʟ...   12/9/2020        401.5   \n",
       "1  \\n\\t\\t\\t\\t\\tIt's a city of dreams... and I'm a...   12/9/2020        247.6   \n",
       "2  \\n\\t\\t\\t\\t\\t======赛博朋克2077======千呼万唤始出来，赛博朋克终问...   12/9/2020     1,904.80   \n",
       "3  \\n\\t\\t\\t\\t\\tObligatory It’s breathtaking!A won...   12/9/2020          8.8   \n",
       "4  \\n\\t\\t\\t\\t\\tBigot developerTo clarify, I got t...   12/9/2020         86.1   \n",
       "\n",
       "  Voted Helpful  Received for Free   Update  \n",
       "0            22              False  Release  \n",
       "1           710               True  Release  \n",
       "2            78              False  Release  \n",
       "3            19              False  Release  \n",
       "4            18               True  Release  "
      ]
     },
     "execution_count": 9,
     "metadata": {},
     "output_type": "execute_result"
    }
   ],
   "source": [
    "print(os.listdir(path))\n",
    "csv = os.path.join(path, \"Cyberpunk_2077_Steam_Reviews.csv\")\n",
    "df = pd.read_csv(csv)\n",
    "df.head()"
   ]
  },
  {
   "cell_type": "markdown",
   "metadata": {},
   "source": [
    "So we found there are all kinds of language in Steam review, and we will use a language detect package to distinct different kinds of language. "
   ]
  },
  {
   "cell_type": "code",
   "execution_count": 10,
   "metadata": {},
   "outputs": [],
   "source": [
    "def distinct_language(text):\n",
    "    try:\n",
    "        return detect(str(text))\n",
    "    except LangDetectException:\n",
    "        return \"unknown\"\n",
    "    \n",
    "df[\"Language\"] = df[\"Review\"].apply(distinct_language)"
   ]
  }
 ],
 "metadata": {
  "kernelspec": {
   "display_name": "base",
   "language": "python",
   "name": "python3"
  },
  "language_info": {
   "codemirror_mode": {
    "name": "ipython",
    "version": 3
   },
   "file_extension": ".py",
   "mimetype": "text/x-python",
   "name": "python",
   "nbconvert_exporter": "python",
   "pygments_lexer": "ipython3",
   "version": "3.11.3"
  },
  "orig_nbformat": 4
 },
 "nbformat": 4,
 "nbformat_minor": 2
}
