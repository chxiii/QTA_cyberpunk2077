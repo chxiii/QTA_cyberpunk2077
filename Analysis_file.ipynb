{
 "cells": [
  {
   "cell_type": "code",
   "execution_count": 6,
   "metadata": {},
   "outputs": [
    {
     "ename": "ModuleNotFoundError",
     "evalue": "No module named 'langdetect'",
     "output_type": "error",
     "traceback": [
      "\u001b[0;31m---------------------------------------------------------------------------\u001b[0m",
      "\u001b[0;31mModuleNotFoundError\u001b[0m                       Traceback (most recent call last)",
      "\u001b[1;32m/Users/QTA_cyberpunk2077/Analysis_file.ipynb Cell 1\u001b[0m line \u001b[0;36m5\n\u001b[1;32m      <a href='vscode-notebook-cell:/Users/QTA_cyberpunk2077/Analysis_file.ipynb#W0sZmlsZQ%3D%3D?line=2'>3</a>\u001b[0m \u001b[39mimport\u001b[39;00m \u001b[39mos\u001b[39;00m\n\u001b[1;32m      <a href='vscode-notebook-cell:/Users/QTA_cyberpunk2077/Analysis_file.ipynb#W0sZmlsZQ%3D%3D?line=3'>4</a>\u001b[0m \u001b[39mimport\u001b[39;00m \u001b[39mmatplotlib\u001b[39;00m\u001b[39m.\u001b[39;00m\u001b[39mpyplot\u001b[39;00m \u001b[39mas\u001b[39;00m \u001b[39mplt\u001b[39;00m\n\u001b[0;32m----> <a href='vscode-notebook-cell:/Users/QTA_cyberpunk2077/Analysis_file.ipynb#W0sZmlsZQ%3D%3D?line=4'>5</a>\u001b[0m \u001b[39mfrom\u001b[39;00m \u001b[39mlangdetect\u001b[39;00m \u001b[39mimport\u001b[39;00m detect\n\u001b[1;32m      <a href='vscode-notebook-cell:/Users/QTA_cyberpunk2077/Analysis_file.ipynb#W0sZmlsZQ%3D%3D?line=5'>6</a>\u001b[0m \u001b[39mfrom\u001b[39;00m \u001b[39mlangdetect\u001b[39;00m\u001b[39m.\u001b[39;00m\u001b[39mlang_detect_exception\u001b[39;00m \u001b[39mimport\u001b[39;00m LangDetectException\n",
      "\u001b[0;31mModuleNotFoundError\u001b[0m: No module named 'langdetect'"
     ]
    }
   ],
   "source": [
    "import kagglehub\n",
    "import pandas as pd\n",
    "import os\n",
    "import matplotlib.pyplot as plt\n",
    "from langdetect import detect\n",
    "from langdetect.lang_detect_exception import LangDetectException\n",
    "\n"
   ]
  },
  {
   "cell_type": "code",
   "execution_count": null,
   "metadata": {},
   "outputs": [
    {
     "name": "stdout",
     "output_type": "stream",
     "text": [
      "Path to dataset files: /Users/jerry/.cache/kagglehub/datasets/filas1212/cyberpunk-2077-steam-reviews-as-of-aug-8-2024/versions/4\n"
     ]
    }
   ],
   "source": [
    "# Download latest version\n",
    "path = kagglehub.dataset_download(\"filas1212/cyberpunk-2077-steam-reviews-as-of-aug-8-2024\")\n",
    "\n",
    "print(\"Path to dataset files:\", path)"
   ]
  },
  {
   "cell_type": "code",
   "execution_count": null,
   "metadata": {},
   "outputs": [
    {
     "name": "stdout",
     "output_type": "stream",
     "text": [
      "['Cyberpunk_2077_Steam_Reviews.xlsx', 'Cyberpunk_2077_Steam_Reviews.csv']\n"
     ]
    },
    {
     "data": {
      "text/html": [
       "<div>\n",
       "<style scoped>\n",
       "    .dataframe tbody tr th:only-of-type {\n",
       "        vertical-align: middle;\n",
       "    }\n",
       "\n",
       "    .dataframe tbody tr th {\n",
       "        vertical-align: top;\n",
       "    }\n",
       "\n",
       "    .dataframe thead th {\n",
       "        text-align: right;\n",
       "    }\n",
       "</style>\n",
       "<table border=\"1\" class=\"dataframe\">\n",
       "  <thead>\n",
       "    <tr style=\"text-align: right;\">\n",
       "      <th></th>\n",
       "      <th>ReviewID</th>\n",
       "      <th>SteamID</th>\n",
       "      <th>Rating</th>\n",
       "      <th>Review</th>\n",
       "      <th>Date Posted</th>\n",
       "      <th>Hours Played</th>\n",
       "      <th>Voted Helpful</th>\n",
       "      <th>Received for Free</th>\n",
       "      <th>Update</th>\n",
       "    </tr>\n",
       "  </thead>\n",
       "  <tbody>\n",
       "    <tr>\n",
       "      <th>0</th>\n",
       "      <td>81918897</td>\n",
       "      <td>Rommel</td>\n",
       "      <td>Recommended</td>\n",
       "      <td>\\n\\t\\t\\t\\t\\t\"Hᴇ's ғᴜᴄᴋᴇᴅ ɪɴ ᴛʜᴇ ʜᴇᴀᴅ, ᴛʜᴇ ᴡᴏʀʟ...</td>\n",
       "      <td>12/9/2020</td>\n",
       "      <td>401.5</td>\n",
       "      <td>22</td>\n",
       "      <td>False</td>\n",
       "      <td>Release</td>\n",
       "    </tr>\n",
       "    <tr>\n",
       "      <th>1</th>\n",
       "      <td>81918903</td>\n",
       "      <td>76561198038931832</td>\n",
       "      <td>Recommended</td>\n",
       "      <td>\\n\\t\\t\\t\\t\\tIt's a city of dreams... and I'm a...</td>\n",
       "      <td>12/9/2020</td>\n",
       "      <td>247.6</td>\n",
       "      <td>710</td>\n",
       "      <td>True</td>\n",
       "      <td>Release</td>\n",
       "    </tr>\n",
       "    <tr>\n",
       "      <th>2</th>\n",
       "      <td>81918907</td>\n",
       "      <td>SKY2023</td>\n",
       "      <td>Recommended</td>\n",
       "      <td>\\n\\t\\t\\t\\t\\t======赛博朋克2077======千呼万唤始出来，赛博朋克终问...</td>\n",
       "      <td>12/9/2020</td>\n",
       "      <td>1,904.80</td>\n",
       "      <td>78</td>\n",
       "      <td>False</td>\n",
       "      <td>Release</td>\n",
       "    </tr>\n",
       "    <tr>\n",
       "      <th>3</th>\n",
       "      <td>81918912</td>\n",
       "      <td>limbo97</td>\n",
       "      <td>Recommended</td>\n",
       "      <td>\\n\\t\\t\\t\\t\\tObligatory It’s breathtaking!A won...</td>\n",
       "      <td>12/9/2020</td>\n",
       "      <td>8.8</td>\n",
       "      <td>19</td>\n",
       "      <td>False</td>\n",
       "      <td>Release</td>\n",
       "    </tr>\n",
       "    <tr>\n",
       "      <th>4</th>\n",
       "      <td>81918918</td>\n",
       "      <td>sn1ffla</td>\n",
       "      <td>Not Recommended</td>\n",
       "      <td>\\n\\t\\t\\t\\t\\tBigot developerTo clarify, I got t...</td>\n",
       "      <td>12/9/2020</td>\n",
       "      <td>86.1</td>\n",
       "      <td>18</td>\n",
       "      <td>True</td>\n",
       "      <td>Release</td>\n",
       "    </tr>\n",
       "  </tbody>\n",
       "</table>\n",
       "</div>"
      ],
      "text/plain": [
       "   ReviewID            SteamID           Rating  \\\n",
       "0  81918897             Rommel      Recommended   \n",
       "1  81918903  76561198038931832      Recommended   \n",
       "2  81918907            SKY2023      Recommended   \n",
       "3  81918912            limbo97      Recommended   \n",
       "4  81918918            sn1ffla  Not Recommended   \n",
       "\n",
       "                                              Review Date Posted Hours Played  \\\n",
       "0  \\n\\t\\t\\t\\t\\t\"Hᴇ's ғᴜᴄᴋᴇᴅ ɪɴ ᴛʜᴇ ʜᴇᴀᴅ, ᴛʜᴇ ᴡᴏʀʟ...   12/9/2020        401.5   \n",
       "1  \\n\\t\\t\\t\\t\\tIt's a city of dreams... and I'm a...   12/9/2020        247.6   \n",
       "2  \\n\\t\\t\\t\\t\\t======赛博朋克2077======千呼万唤始出来，赛博朋克终问...   12/9/2020     1,904.80   \n",
       "3  \\n\\t\\t\\t\\t\\tObligatory It’s breathtaking!A won...   12/9/2020          8.8   \n",
       "4  \\n\\t\\t\\t\\t\\tBigot developerTo clarify, I got t...   12/9/2020         86.1   \n",
       "\n",
       "  Voted Helpful  Received for Free   Update  \n",
       "0            22              False  Release  \n",
       "1           710               True  Release  \n",
       "2            78              False  Release  \n",
       "3            19              False  Release  \n",
       "4            18               True  Release  "
      ]
     },
     "execution_count": 4,
     "metadata": {},
     "output_type": "execute_result"
    }
   ],
   "source": [
    "print(os.listdir(path))\n",
    "csv = os.path.join(path, \"Cyberpunk_2077_Steam_Reviews.csv\")\n",
    "df = pd.read_csv(csv)\n",
    "df.head()"
   ]
  },
  {
   "cell_type": "markdown",
   "metadata": {},
   "source": [
    "So we found there are all kinds of language in Steam review, and we will use a language detect package to distinct different kinds of language. "
   ]
  },
  {
   "cell_type": "code",
   "execution_count": null,
   "metadata": {},
   "outputs": [
    {
     "ename": "NameError",
     "evalue": "name 'LangDetectException' is not defined",
     "output_type": "error",
     "traceback": [
      "\u001b[0;31m---------------------------------------------------------------------------\u001b[0m",
      "\u001b[0;31mNameError\u001b[0m                                 Traceback (most recent call last)",
      "\u001b[1;32m/Users/QTA_cyberpunk2077/Analysis_file.ipynb Cell 5\u001b[0m line \u001b[0;36m3\n\u001b[1;32m      <a href='vscode-notebook-cell:/Users/QTA_cyberpunk2077/Analysis_file.ipynb#W4sZmlsZQ%3D%3D?line=1'>2</a>\u001b[0m \u001b[39mtry\u001b[39;00m:\n\u001b[0;32m----> <a href='vscode-notebook-cell:/Users/QTA_cyberpunk2077/Analysis_file.ipynb#W4sZmlsZQ%3D%3D?line=2'>3</a>\u001b[0m     \u001b[39mreturn\u001b[39;00m detect(\u001b[39mstr\u001b[39m(text))\n\u001b[1;32m      <a href='vscode-notebook-cell:/Users/QTA_cyberpunk2077/Analysis_file.ipynb#W4sZmlsZQ%3D%3D?line=3'>4</a>\u001b[0m \u001b[39mexcept\u001b[39;00m LangDetectException:\n",
      "\u001b[0;31mNameError\u001b[0m: name 'detect' is not defined",
      "\nDuring handling of the above exception, another exception occurred:\n",
      "\u001b[0;31mNameError\u001b[0m                                 Traceback (most recent call last)",
      "\u001b[1;32m/Users/QTA_cyberpunk2077/Analysis_file.ipynb Cell 5\u001b[0m line \u001b[0;36m7\n\u001b[1;32m      <a href='vscode-notebook-cell:/Users/QTA_cyberpunk2077/Analysis_file.ipynb#W4sZmlsZQ%3D%3D?line=3'>4</a>\u001b[0m     \u001b[39mexcept\u001b[39;00m LangDetectException:\n\u001b[1;32m      <a href='vscode-notebook-cell:/Users/QTA_cyberpunk2077/Analysis_file.ipynb#W4sZmlsZQ%3D%3D?line=4'>5</a>\u001b[0m         \u001b[39mreturn\u001b[39;00m \u001b[39m\"\u001b[39m\u001b[39munknown\u001b[39m\u001b[39m\"\u001b[39m\n\u001b[0;32m----> <a href='vscode-notebook-cell:/Users/QTA_cyberpunk2077/Analysis_file.ipynb#W4sZmlsZQ%3D%3D?line=6'>7</a>\u001b[0m df[\u001b[39m\"\u001b[39m\u001b[39mLanguage\u001b[39m\u001b[39m\"\u001b[39m] \u001b[39m=\u001b[39m df[\u001b[39m\"\u001b[39m\u001b[39mReview\u001b[39m\u001b[39m\"\u001b[39m]\u001b[39m.\u001b[39mapply(distinct_language)\n",
      "File \u001b[0;32m~/anaconda3/lib/python3.11/site-packages/pandas/core/series.py:4771\u001b[0m, in \u001b[0;36mSeries.apply\u001b[0;34m(self, func, convert_dtype, args, **kwargs)\u001b[0m\n\u001b[1;32m   4661\u001b[0m \u001b[39mdef\u001b[39;00m \u001b[39mapply\u001b[39m(\n\u001b[1;32m   4662\u001b[0m     \u001b[39mself\u001b[39m,\n\u001b[1;32m   4663\u001b[0m     func: AggFuncType,\n\u001b[0;32m   (...)\u001b[0m\n\u001b[1;32m   4666\u001b[0m     \u001b[39m*\u001b[39m\u001b[39m*\u001b[39mkwargs,\n\u001b[1;32m   4667\u001b[0m ) \u001b[39m-\u001b[39m\u001b[39m>\u001b[39m DataFrame \u001b[39m|\u001b[39m Series:\n\u001b[1;32m   4668\u001b[0m \u001b[39m    \u001b[39m\u001b[39m\"\"\"\u001b[39;00m\n\u001b[1;32m   4669\u001b[0m \u001b[39m    Invoke function on values of Series.\u001b[39;00m\n\u001b[1;32m   4670\u001b[0m \n\u001b[0;32m   (...)\u001b[0m\n\u001b[1;32m   4769\u001b[0m \u001b[39m    dtype: float64\u001b[39;00m\n\u001b[1;32m   4770\u001b[0m \u001b[39m    \"\"\"\u001b[39;00m\n\u001b[0;32m-> 4771\u001b[0m     \u001b[39mreturn\u001b[39;00m SeriesApply(\u001b[39mself\u001b[39m, func, convert_dtype, args, kwargs)\u001b[39m.\u001b[39mapply()\n",
      "File \u001b[0;32m~/anaconda3/lib/python3.11/site-packages/pandas/core/apply.py:1123\u001b[0m, in \u001b[0;36mSeriesApply.apply\u001b[0;34m(self)\u001b[0m\n\u001b[1;32m   1120\u001b[0m     \u001b[39mreturn\u001b[39;00m \u001b[39mself\u001b[39m\u001b[39m.\u001b[39mapply_str()\n\u001b[1;32m   1122\u001b[0m \u001b[39m# self.f is Callable\u001b[39;00m\n\u001b[0;32m-> 1123\u001b[0m \u001b[39mreturn\u001b[39;00m \u001b[39mself\u001b[39m\u001b[39m.\u001b[39mapply_standard()\n",
      "File \u001b[0;32m~/anaconda3/lib/python3.11/site-packages/pandas/core/apply.py:1174\u001b[0m, in \u001b[0;36mSeriesApply.apply_standard\u001b[0;34m(self)\u001b[0m\n\u001b[1;32m   1172\u001b[0m     \u001b[39melse\u001b[39;00m:\n\u001b[1;32m   1173\u001b[0m         values \u001b[39m=\u001b[39m obj\u001b[39m.\u001b[39mastype(\u001b[39mobject\u001b[39m)\u001b[39m.\u001b[39m_values\n\u001b[0;32m-> 1174\u001b[0m         mapped \u001b[39m=\u001b[39m lib\u001b[39m.\u001b[39mmap_infer(\n\u001b[1;32m   1175\u001b[0m             values,\n\u001b[1;32m   1176\u001b[0m             f,\n\u001b[1;32m   1177\u001b[0m             convert\u001b[39m=\u001b[39m\u001b[39mself\u001b[39m\u001b[39m.\u001b[39mconvert_dtype,\n\u001b[1;32m   1178\u001b[0m         )\n\u001b[1;32m   1180\u001b[0m \u001b[39mif\u001b[39;00m \u001b[39mlen\u001b[39m(mapped) \u001b[39mand\u001b[39;00m \u001b[39misinstance\u001b[39m(mapped[\u001b[39m0\u001b[39m], ABCSeries):\n\u001b[1;32m   1181\u001b[0m     \u001b[39m# GH#43986 Need to do list(mapped) in order to get treated as nested\u001b[39;00m\n\u001b[1;32m   1182\u001b[0m     \u001b[39m#  See also GH#25959 regarding EA support\u001b[39;00m\n\u001b[1;32m   1183\u001b[0m     \u001b[39mreturn\u001b[39;00m obj\u001b[39m.\u001b[39m_constructor_expanddim(\u001b[39mlist\u001b[39m(mapped), index\u001b[39m=\u001b[39mobj\u001b[39m.\u001b[39mindex)\n",
      "File \u001b[0;32m~/anaconda3/lib/python3.11/site-packages/pandas/_libs/lib.pyx:2924\u001b[0m, in \u001b[0;36mpandas._libs.lib.map_infer\u001b[0;34m()\u001b[0m\n",
      "\u001b[1;32m/Users/QTA_cyberpunk2077/Analysis_file.ipynb Cell 5\u001b[0m line \u001b[0;36m4\n\u001b[1;32m      <a href='vscode-notebook-cell:/Users/QTA_cyberpunk2077/Analysis_file.ipynb#W4sZmlsZQ%3D%3D?line=1'>2</a>\u001b[0m \u001b[39mtry\u001b[39;00m:\n\u001b[1;32m      <a href='vscode-notebook-cell:/Users/QTA_cyberpunk2077/Analysis_file.ipynb#W4sZmlsZQ%3D%3D?line=2'>3</a>\u001b[0m     \u001b[39mreturn\u001b[39;00m detect(\u001b[39mstr\u001b[39m(text))\n\u001b[0;32m----> <a href='vscode-notebook-cell:/Users/QTA_cyberpunk2077/Analysis_file.ipynb#W4sZmlsZQ%3D%3D?line=3'>4</a>\u001b[0m \u001b[39mexcept\u001b[39;00m LangDetectException:\n\u001b[1;32m      <a href='vscode-notebook-cell:/Users/QTA_cyberpunk2077/Analysis_file.ipynb#W4sZmlsZQ%3D%3D?line=4'>5</a>\u001b[0m     \u001b[39mreturn\u001b[39;00m \u001b[39m\"\u001b[39m\u001b[39munknown\u001b[39m\u001b[39m\"\u001b[39m\n",
      "\u001b[0;31mNameError\u001b[0m: name 'LangDetectException' is not defined"
     ]
    }
   ],
   "source": [
    "def distinct_language(text):\n",
    "    try:\n",
    "        return detect(str(text))\n",
    "    except LangDetectException:\n",
    "        return \"unknown\"\n",
    "    \n",
    "df[\"Language\"] = df[\"Review\"].apply(distinct_language)"
   ]
  }
 ],
 "metadata": {
  "kernelspec": {
   "display_name": "base",
   "language": "python",
   "name": "python3"
  },
  "language_info": {
   "codemirror_mode": {
    "name": "ipython",
    "version": 3
   },
   "file_extension": ".py",
   "mimetype": "text/x-python",
   "name": "python",
   "nbconvert_exporter": "python",
   "pygments_lexer": "ipython3",
   "version": "3.11.3"
  },
  "orig_nbformat": 4
 },
 "nbformat": 4,
 "nbformat_minor": 2
}
